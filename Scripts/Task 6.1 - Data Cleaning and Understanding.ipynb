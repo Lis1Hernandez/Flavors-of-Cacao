{
 "cells": [
  {
   "cell_type": "markdown",
   "id": "739d734e-7b70-44e5-9ed8-83881d956f82",
   "metadata": {},
   "source": [
    "\n",
    "6.1 Sourcing Open Data: Flavors of Cacao\n",
    "\n",
    "This Script Includes\n",
    "\n",
    "    1. Importing Libraries and Data Set\n",
    "    2. Data Cleaning\n",
    "    3. Data Understanding\n",
    "\n",
    "1. Importing Libraries and Data Set\n",
    "\n"
   ]
  },
  {
   "cell_type": "code",
   "execution_count": 2,
   "id": "d8808ac6-04b7-4cfe-9543-d645da8556fb",
   "metadata": {},
   "outputs": [],
   "source": [
    "# Import libraries\n",
    "import pandas as pd\n",
    "import numpy as np\n",
    "import os"
   ]
  },
  {
   "cell_type": "code",
   "execution_count": 3,
   "id": "869df9ca-f710-4a12-a6f9-c84e0c36fa4c",
   "metadata": {},
   "outputs": [],
   "source": [
    "df_cacao=pd.read_csv(r\"C:\\Users\\Owner\\Downloads\\Edited Flavor of Cacao Data - achievement 6.csv\")"
   ]
  },
  {
   "cell_type": "markdown",
   "id": "1044765f-5252-469a-9c1a-5ccaaeff30ca",
   "metadata": {},
   "source": [
    "2. Data Cleaning"
   ]
  },
  {
   "cell_type": "code",
   "execution_count": 5,
   "id": "77cb5df0-0c58-4b18-a580-2dcbbb0555b1",
   "metadata": {},
   "outputs": [
    {
     "data": {
      "text/html": [
       "<div>\n",
       "<style scoped>\n",
       "    .dataframe tbody tr th:only-of-type {\n",
       "        vertical-align: middle;\n",
       "    }\n",
       "\n",
       "    .dataframe tbody tr th {\n",
       "        vertical-align: top;\n",
       "    }\n",
       "\n",
       "    .dataframe thead th {\n",
       "        text-align: right;\n",
       "    }\n",
       "</style>\n",
       "<table border=\"1\" class=\"dataframe\">\n",
       "  <thead>\n",
       "    <tr style=\"text-align: right;\">\n",
       "      <th></th>\n",
       "      <th>Company</th>\n",
       "      <th>Specific Bean Origin\\n</th>\n",
       "      <th>REF</th>\n",
       "      <th>Review\\nDate</th>\n",
       "      <th>Cocoa\\nPercent</th>\n",
       "      <th>Company\\nLocation</th>\n",
       "      <th>Rating</th>\n",
       "      <th>Bean\\nType</th>\n",
       "      <th>Broad Bean\\nOrigin</th>\n",
       "    </tr>\n",
       "  </thead>\n",
       "  <tbody>\n",
       "    <tr>\n",
       "      <th>0</th>\n",
       "      <td>A. Morin</td>\n",
       "      <td>Agua Grande</td>\n",
       "      <td>1876</td>\n",
       "      <td>2016</td>\n",
       "      <td>63%</td>\n",
       "      <td>France</td>\n",
       "      <td>3.75</td>\n",
       "      <td>Blend</td>\n",
       "      <td>São Tomé and Príncipe</td>\n",
       "    </tr>\n",
       "    <tr>\n",
       "      <th>1</th>\n",
       "      <td>A. Morin</td>\n",
       "      <td>Kpime</td>\n",
       "      <td>1676</td>\n",
       "      <td>2015</td>\n",
       "      <td>70%</td>\n",
       "      <td>France</td>\n",
       "      <td>2.75</td>\n",
       "      <td>Blend</td>\n",
       "      <td>Togo</td>\n",
       "    </tr>\n",
       "    <tr>\n",
       "      <th>2</th>\n",
       "      <td>A. Morin</td>\n",
       "      <td>Cusco</td>\n",
       "      <td>1676</td>\n",
       "      <td>2015</td>\n",
       "      <td>70%</td>\n",
       "      <td>France</td>\n",
       "      <td>3.00</td>\n",
       "      <td>Blend</td>\n",
       "      <td>Togo</td>\n",
       "    </tr>\n",
       "    <tr>\n",
       "      <th>3</th>\n",
       "      <td>A. Morin</td>\n",
       "      <td>Akata</td>\n",
       "      <td>1680</td>\n",
       "      <td>2015</td>\n",
       "      <td>70%</td>\n",
       "      <td>France</td>\n",
       "      <td>3.50</td>\n",
       "      <td>Blend</td>\n",
       "      <td>Togo</td>\n",
       "    </tr>\n",
       "    <tr>\n",
       "      <th>4</th>\n",
       "      <td>A. Morin</td>\n",
       "      <td>Quilla</td>\n",
       "      <td>1704</td>\n",
       "      <td>2015</td>\n",
       "      <td>70%</td>\n",
       "      <td>France</td>\n",
       "      <td>3.50</td>\n",
       "      <td>Blend</td>\n",
       "      <td>Peru</td>\n",
       "    </tr>\n",
       "  </tbody>\n",
       "</table>\n",
       "</div>"
      ],
      "text/plain": [
       "    Company Specific Bean Origin\\n   REF  Review\\nDate Cocoa\\nPercent  \\\n",
       "0  A. Morin            Agua Grande  1876          2016            63%   \n",
       "1  A. Morin                  Kpime  1676          2015            70%   \n",
       "2  A. Morin                  Cusco  1676          2015            70%   \n",
       "3  A. Morin                  Akata  1680          2015            70%   \n",
       "4  A. Morin                 Quilla  1704          2015            70%   \n",
       "\n",
       "  Company\\nLocation  Rating Bean\\nType     Broad Bean\\nOrigin  \n",
       "0            France    3.75      Blend  São Tomé and Príncipe  \n",
       "1            France    2.75      Blend                   Togo  \n",
       "2            France    3.00      Blend                   Togo  \n",
       "3            France    3.50      Blend                   Togo  \n",
       "4            France    3.50      Blend                   Peru  "
      ]
     },
     "execution_count": 5,
     "metadata": {},
     "output_type": "execute_result"
    }
   ],
   "source": [
    "df_cacao.head()"
   ]
  },
  {
   "cell_type": "code",
   "execution_count": 6,
   "id": "1a4769f5-e40b-4d83-a2f3-b6840bb5e72a",
   "metadata": {},
   "outputs": [
    {
     "data": {
      "text/plain": [
       "(1657, 9)"
      ]
     },
     "execution_count": 6,
     "metadata": {},
     "output_type": "execute_result"
    }
   ],
   "source": [
    "# rows and columns\n",
    "df_cacao.shape"
   ]
  },
  {
   "cell_type": "code",
   "execution_count": 7,
   "id": "b69a5dd2-a62a-4959-8e36-a81d74d965c1",
   "metadata": {},
   "outputs": [
    {
     "name": "stdout",
     "output_type": "stream",
     "text": [
      "<class 'pandas.core.frame.DataFrame'>\n",
      "RangeIndex: 1657 entries, 0 to 1656\n",
      "Data columns (total 9 columns):\n",
      " #   Column                 Non-Null Count  Dtype  \n",
      "---  ------                 --------------  -----  \n",
      " 0   Company                1657 non-null   object \n",
      " 1   Specific Bean Origin\n",
      "  1657 non-null   object \n",
      " 2   REF                    1657 non-null   int64  \n",
      " 3   Review\n",
      "Date            1657 non-null   int64  \n",
      " 4   Cocoa\n",
      "Percent          1657 non-null   object \n",
      " 5   Company\n",
      "Location       1657 non-null   object \n",
      " 6   Rating                 1657 non-null   float64\n",
      " 7   Bean\n",
      "Type              1657 non-null   object \n",
      " 8   Broad Bean\n",
      "Origin      1657 non-null   object \n",
      "dtypes: float64(1), int64(2), object(6)\n",
      "memory usage: 116.6+ KB\n"
     ]
    }
   ],
   "source": [
    "# general info on DF \n",
    "df_cacao.info()"
   ]
  },
  {
   "cell_type": "code",
   "execution_count": 8,
   "id": "0d966c56-2116-4058-99b5-9a3ef1ff6f02",
   "metadata": {},
   "outputs": [
    {
     "data": {
      "text/plain": [
       "Company                   0\n",
       "Specific Bean Origin\\n    0\n",
       "REF                       0\n",
       "Review\\nDate              0\n",
       "Cocoa\\nPercent            0\n",
       "Company\\nLocation         0\n",
       "Rating                    0\n",
       "Bean\\nType                0\n",
       "Broad Bean\\nOrigin        0\n",
       "dtype: int64"
      ]
     },
     "execution_count": 8,
     "metadata": {},
     "output_type": "execute_result"
    }
   ],
   "source": [
    "# checking for missing values\n",
    "df_cacao.isnull().sum()"
   ]
  },
  {
   "cell_type": "code",
   "execution_count": 9,
   "id": "30fb77d3-2f92-4d9d-bc83-b386ffaaaf21",
   "metadata": {},
   "outputs": [],
   "source": [
    "# will drop duplicates if there are any\n",
    "df_cacao.drop_duplicates(inplace=True)"
   ]
  },
  {
   "cell_type": "code",
   "execution_count": 10,
   "id": "5e71a007-1592-4b50-b0b6-36051af93443",
   "metadata": {},
   "outputs": [
    {
     "data": {
      "text/plain": [
       "Index(['Company', 'Specific Bean Origin\\n', 'REF', 'Review\\nDate',\n",
       "       'Cocoa\\nPercent', 'Company\\nLocation', 'Rating', 'Bean\\nType',\n",
       "       'Broad Bean\\nOrigin'],\n",
       "      dtype='object')"
      ]
     },
     "execution_count": 10,
     "metadata": {},
     "output_type": "execute_result"
    }
   ],
   "source": [
    "df_cacao.columns"
   ]
  },
  {
   "cell_type": "code",
   "execution_count": 11,
   "id": "d786aecf-64a3-44c3-9bcf-44ef6b3f33ec",
   "metadata": {},
   "outputs": [],
   "source": [
    "df_cacao.rename(columns={'Specific Bean Origin\\n': 'Specific_Bean_Origin'}, inplace=True)\n",
    "\n",
    "df_cacao.rename(columns={'Review\\nDate': 'Review_Date'}, inplace=True)\n",
    "\n",
    "df_cacao.rename(columns={'Cocoa\\nPercent': 'Cocoa_Percent'}, inplace=True)\n",
    "\n",
    "df_cacao.rename(columns={'Company\\nLocation': 'Company_Location'}, inplace=True)\n",
    "\n",
    "df_cacao.rename(columns={'Bean\\nType': 'Bean_Type'}, inplace=True)\n",
    "\n",
    "df_cacao.rename(columns={'Broad Bean\\nOrigin': 'Broad_Bean_Origin'}, inplace=True)\n",
    "\n",
    "df_cacao.rename(columns={'REF': 'Reference_Number'}, inplace=True)\n"
   ]
  },
  {
   "cell_type": "code",
   "execution_count": 12,
   "id": "a19e81e5-83de-4604-8817-693ae009683b",
   "metadata": {},
   "outputs": [
    {
     "data": {
      "text/plain": [
       "Index(['Company', 'Specific_Bean_Origin', 'Reference_Number', 'Review_Date',\n",
       "       'Cocoa_Percent', 'Company_Location', 'Rating', 'Bean_Type',\n",
       "       'Broad_Bean_Origin'],\n",
       "      dtype='object')"
      ]
     },
     "execution_count": 12,
     "metadata": {},
     "output_type": "execute_result"
    }
   ],
   "source": [
    "df_cacao.columns"
   ]
  },
  {
   "cell_type": "code",
   "execution_count": 13,
   "id": "18b60847-f206-4ccf-a3c3-3643a87d63a1",
   "metadata": {},
   "outputs": [],
   "source": [
    "rating_mapping = {\n",
    "    1: 'Unpleasant',\n",
    "    1.5: 'Unpleasant',\n",
    "    1.75: 'Disappointing',\n",
    "    2: 'Disappointing',\n",
    "    2.25: 'Disappointing',\n",
    "    2.5: 'Mediocre',\n",
    "    2.75: 'Mediocre',\n",
    "    3: 'Satisfactory',\n",
    "    3.25: 'Satisfactory',\n",
    "    3.5: 'Satisfactory',\n",
    "    3.75: 'Praiseworthy',\n",
    "    4: 'Premium',\n",
    "    5: 'Elite'\n",
    "}\n"
   ]
  },
  {
   "cell_type": "code",
   "execution_count": 14,
   "id": "46fc4e72-3815-4567-8d03-f3a0037b5c3a",
   "metadata": {},
   "outputs": [],
   "source": [
    "df_cacao['Rating_meaning'] = df_cacao['Rating'].map(rating_mapping)\n"
   ]
  },
  {
   "cell_type": "code",
   "execution_count": 15,
   "id": "694947cd-0266-4f66-94be-9bdc3e2b7742",
   "metadata": {},
   "outputs": [
    {
     "data": {
      "text/html": [
       "<div>\n",
       "<style scoped>\n",
       "    .dataframe tbody tr th:only-of-type {\n",
       "        vertical-align: middle;\n",
       "    }\n",
       "\n",
       "    .dataframe tbody tr th {\n",
       "        vertical-align: top;\n",
       "    }\n",
       "\n",
       "    .dataframe thead th {\n",
       "        text-align: right;\n",
       "    }\n",
       "</style>\n",
       "<table border=\"1\" class=\"dataframe\">\n",
       "  <thead>\n",
       "    <tr style=\"text-align: right;\">\n",
       "      <th></th>\n",
       "      <th>Company</th>\n",
       "      <th>Specific_Bean_Origin</th>\n",
       "      <th>Reference_Number</th>\n",
       "      <th>Review_Date</th>\n",
       "      <th>Cocoa_Percent</th>\n",
       "      <th>Company_Location</th>\n",
       "      <th>Rating</th>\n",
       "      <th>Bean_Type</th>\n",
       "      <th>Broad_Bean_Origin</th>\n",
       "      <th>Rating_meaning</th>\n",
       "    </tr>\n",
       "  </thead>\n",
       "  <tbody>\n",
       "    <tr>\n",
       "      <th>0</th>\n",
       "      <td>A. Morin</td>\n",
       "      <td>Agua Grande</td>\n",
       "      <td>1876</td>\n",
       "      <td>2016</td>\n",
       "      <td>63%</td>\n",
       "      <td>France</td>\n",
       "      <td>3.75</td>\n",
       "      <td>Blend</td>\n",
       "      <td>São Tomé and Príncipe</td>\n",
       "      <td>Praiseworthy</td>\n",
       "    </tr>\n",
       "    <tr>\n",
       "      <th>1</th>\n",
       "      <td>A. Morin</td>\n",
       "      <td>Kpime</td>\n",
       "      <td>1676</td>\n",
       "      <td>2015</td>\n",
       "      <td>70%</td>\n",
       "      <td>France</td>\n",
       "      <td>2.75</td>\n",
       "      <td>Blend</td>\n",
       "      <td>Togo</td>\n",
       "      <td>Mediocre</td>\n",
       "    </tr>\n",
       "    <tr>\n",
       "      <th>2</th>\n",
       "      <td>A. Morin</td>\n",
       "      <td>Cusco</td>\n",
       "      <td>1676</td>\n",
       "      <td>2015</td>\n",
       "      <td>70%</td>\n",
       "      <td>France</td>\n",
       "      <td>3.00</td>\n",
       "      <td>Blend</td>\n",
       "      <td>Togo</td>\n",
       "      <td>Satisfactory</td>\n",
       "    </tr>\n",
       "    <tr>\n",
       "      <th>3</th>\n",
       "      <td>A. Morin</td>\n",
       "      <td>Akata</td>\n",
       "      <td>1680</td>\n",
       "      <td>2015</td>\n",
       "      <td>70%</td>\n",
       "      <td>France</td>\n",
       "      <td>3.50</td>\n",
       "      <td>Blend</td>\n",
       "      <td>Togo</td>\n",
       "      <td>Satisfactory</td>\n",
       "    </tr>\n",
       "    <tr>\n",
       "      <th>4</th>\n",
       "      <td>A. Morin</td>\n",
       "      <td>Quilla</td>\n",
       "      <td>1704</td>\n",
       "      <td>2015</td>\n",
       "      <td>70%</td>\n",
       "      <td>France</td>\n",
       "      <td>3.50</td>\n",
       "      <td>Blend</td>\n",
       "      <td>Peru</td>\n",
       "      <td>Satisfactory</td>\n",
       "    </tr>\n",
       "  </tbody>\n",
       "</table>\n",
       "</div>"
      ],
      "text/plain": [
       "    Company Specific_Bean_Origin  Reference_Number  Review_Date Cocoa_Percent  \\\n",
       "0  A. Morin          Agua Grande              1876         2016           63%   \n",
       "1  A. Morin                Kpime              1676         2015           70%   \n",
       "2  A. Morin                Cusco              1676         2015           70%   \n",
       "3  A. Morin                Akata              1680         2015           70%   \n",
       "4  A. Morin               Quilla              1704         2015           70%   \n",
       "\n",
       "  Company_Location  Rating Bean_Type      Broad_Bean_Origin Rating_meaning  \n",
       "0           France    3.75     Blend  São Tomé and Príncipe   Praiseworthy  \n",
       "1           France    2.75     Blend                   Togo       Mediocre  \n",
       "2           France    3.00     Blend                   Togo   Satisfactory  \n",
       "3           France    3.50     Blend                   Togo   Satisfactory  \n",
       "4           France    3.50     Blend                   Peru   Satisfactory  "
      ]
     },
     "execution_count": 15,
     "metadata": {},
     "output_type": "execute_result"
    }
   ],
   "source": [
    "df_cacao.head()"
   ]
  },
  {
   "cell_type": "markdown",
   "id": "be4e8422-5f7a-4032-84a3-96e11fa4e922",
   "metadata": {},
   "source": [
    "3. Data Understanding"
   ]
  },
  {
   "cell_type": "code",
   "execution_count": 17,
   "id": "2c34a097-72f4-4630-96f4-241bd8e1848b",
   "metadata": {},
   "outputs": [
    {
     "data": {
      "text/html": [
       "<div>\n",
       "<style scoped>\n",
       "    .dataframe tbody tr th:only-of-type {\n",
       "        vertical-align: middle;\n",
       "    }\n",
       "\n",
       "    .dataframe tbody tr th {\n",
       "        vertical-align: top;\n",
       "    }\n",
       "\n",
       "    .dataframe thead th {\n",
       "        text-align: right;\n",
       "    }\n",
       "</style>\n",
       "<table border=\"1\" class=\"dataframe\">\n",
       "  <thead>\n",
       "    <tr style=\"text-align: right;\">\n",
       "      <th></th>\n",
       "      <th>Reference_Number</th>\n",
       "      <th>Review_Date</th>\n",
       "      <th>Rating</th>\n",
       "    </tr>\n",
       "  </thead>\n",
       "  <tbody>\n",
       "    <tr>\n",
       "      <th>count</th>\n",
       "      <td>1653.000000</td>\n",
       "      <td>1653.000000</td>\n",
       "      <td>1653.000000</td>\n",
       "    </tr>\n",
       "    <tr>\n",
       "      <th>mean</th>\n",
       "      <td>1055.733212</td>\n",
       "      <td>2012.436782</td>\n",
       "      <td>3.197066</td>\n",
       "    </tr>\n",
       "    <tr>\n",
       "      <th>std</th>\n",
       "      <td>548.086011</td>\n",
       "      <td>2.876877</td>\n",
       "      <td>0.458306</td>\n",
       "    </tr>\n",
       "    <tr>\n",
       "      <th>min</th>\n",
       "      <td>5.000000</td>\n",
       "      <td>2006.000000</td>\n",
       "      <td>1.000000</td>\n",
       "    </tr>\n",
       "    <tr>\n",
       "      <th>25%</th>\n",
       "      <td>607.000000</td>\n",
       "      <td>2010.000000</td>\n",
       "      <td>3.000000</td>\n",
       "    </tr>\n",
       "    <tr>\n",
       "      <th>50%</th>\n",
       "      <td>1097.000000</td>\n",
       "      <td>2013.000000</td>\n",
       "      <td>3.250000</td>\n",
       "    </tr>\n",
       "    <tr>\n",
       "      <th>75%</th>\n",
       "      <td>1518.000000</td>\n",
       "      <td>2015.000000</td>\n",
       "      <td>3.500000</td>\n",
       "    </tr>\n",
       "    <tr>\n",
       "      <th>max</th>\n",
       "      <td>1952.000000</td>\n",
       "      <td>2017.000000</td>\n",
       "      <td>5.000000</td>\n",
       "    </tr>\n",
       "  </tbody>\n",
       "</table>\n",
       "</div>"
      ],
      "text/plain": [
       "       Reference_Number  Review_Date       Rating\n",
       "count       1653.000000  1653.000000  1653.000000\n",
       "mean        1055.733212  2012.436782     3.197066\n",
       "std          548.086011     2.876877     0.458306\n",
       "min            5.000000  2006.000000     1.000000\n",
       "25%          607.000000  2010.000000     3.000000\n",
       "50%         1097.000000  2013.000000     3.250000\n",
       "75%         1518.000000  2015.000000     3.500000\n",
       "max         1952.000000  2017.000000     5.000000"
      ]
     },
     "execution_count": 17,
     "metadata": {},
     "output_type": "execute_result"
    }
   ],
   "source": [
    "df_cacao.describe()"
   ]
  },
  {
   "cell_type": "code",
   "execution_count": 18,
   "id": "494b8993-06e0-4c16-b2c1-c88613918c7c",
   "metadata": {},
   "outputs": [
    {
     "data": {
      "text/plain": [
       "Company                  object\n",
       "Specific_Bean_Origin     object\n",
       "Reference_Number          int64\n",
       "Review_Date               int64\n",
       "Cocoa_Percent            object\n",
       "Company_Location         object\n",
       "Rating                  float64\n",
       "Bean_Type                object\n",
       "Broad_Bean_Origin        object\n",
       "Rating_meaning           object\n",
       "dtype: object"
      ]
     },
     "execution_count": 18,
     "metadata": {},
     "output_type": "execute_result"
    }
   ],
   "source": [
    "df_cacao.dtypes"
   ]
  },
  {
   "cell_type": "code",
   "execution_count": 19,
   "id": "88091688-7a42-4664-bb8e-bc9bb3fb740e",
   "metadata": {},
   "outputs": [
    {
     "data": {
      "text/plain": [
       "Index(['Company', 'Specific_Bean_Origin', 'Reference_Number', 'Review_Date',\n",
       "       'Cocoa_Percent', 'Company_Location', 'Rating', 'Bean_Type',\n",
       "       'Broad_Bean_Origin', 'Rating_meaning'],\n",
       "      dtype='object')"
      ]
     },
     "execution_count": 19,
     "metadata": {},
     "output_type": "execute_result"
    }
   ],
   "source": [
    "df_cacao.columns"
   ]
  },
  {
   "cell_type": "code",
   "execution_count": 20,
   "id": "59365676-ac34-47a2-8567-bccbd31ed121",
   "metadata": {},
   "outputs": [
    {
     "data": {
      "text/plain": [
       "(1653, 10)"
      ]
     },
     "execution_count": 20,
     "metadata": {},
     "output_type": "execute_result"
    }
   ],
   "source": [
    "df_cacao.shape"
   ]
  },
  {
   "cell_type": "code",
   "execution_count": 21,
   "id": "ba87acea-b986-4c9a-92ce-95c5cbee133e",
   "metadata": {},
   "outputs": [
    {
     "data": {
      "text/plain": [
       "Company                 0\n",
       "Specific_Bean_Origin    0\n",
       "Reference_Number        0\n",
       "Review_Date             0\n",
       "Cocoa_Percent           0\n",
       "Company_Location        0\n",
       "Rating                  0\n",
       "Bean_Type               0\n",
       "Broad_Bean_Origin       0\n",
       "Rating_meaning          0\n",
       "dtype: int64"
      ]
     },
     "execution_count": 21,
     "metadata": {},
     "output_type": "execute_result"
    }
   ],
   "source": [
    "df_cacao.isnull().sum()"
   ]
  },
  {
   "cell_type": "code",
   "execution_count": 22,
   "id": "022a7437-b99f-41cc-90fb-7ac17ef92772",
   "metadata": {
    "scrolled": true
   },
   "outputs": [
    {
     "name": "stdout",
     "output_type": "stream",
     "text": [
      "<class 'pandas.core.frame.DataFrame'>\n",
      "Index: 1653 entries, 0 to 1656\n",
      "Data columns (total 10 columns):\n",
      " #   Column                Non-Null Count  Dtype  \n",
      "---  ------                --------------  -----  \n",
      " 0   Company               1653 non-null   object \n",
      " 1   Specific_Bean_Origin  1653 non-null   object \n",
      " 2   Reference_Number      1653 non-null   int64  \n",
      " 3   Review_Date           1653 non-null   int64  \n",
      " 4   Cocoa_Percent         1653 non-null   object \n",
      " 5   Company_Location      1653 non-null   object \n",
      " 6   Rating                1653 non-null   float64\n",
      " 7   Bean_Type             1653 non-null   object \n",
      " 8   Broad_Bean_Origin     1653 non-null   object \n",
      " 9   Rating_meaning        1653 non-null   object \n",
      "dtypes: float64(1), int64(2), object(7)\n",
      "memory usage: 142.1+ KB\n"
     ]
    }
   ],
   "source": [
    "df_cacao.info()"
   ]
  },
  {
   "cell_type": "code",
   "execution_count": 23,
   "id": "53908bcb-8a6d-40e2-bf64-680ec9771f42",
   "metadata": {},
   "outputs": [],
   "source": [
    "df_cacao.to_csv(\"../Updated/df_cacao_cleaned.csv\", index=False)"
   ]
  },
  {
   "cell_type": "code",
   "execution_count": null,
   "id": "12a78e22-7bed-4c24-8c83-3bc841f51e18",
   "metadata": {},
   "outputs": [],
   "source": []
  },
  {
   "cell_type": "code",
   "execution_count": null,
   "id": "ac36f9cc-5668-45bf-9474-b07f1a04d70a",
   "metadata": {},
   "outputs": [],
   "source": []
  }
 ],
 "metadata": {
  "kernelspec": {
   "display_name": "Python 3 (ipykernel)",
   "language": "python",
   "name": "python3"
  },
  "language_info": {
   "codemirror_mode": {
    "name": "ipython",
    "version": 3
   },
   "file_extension": ".py",
   "mimetype": "text/x-python",
   "name": "python",
   "nbconvert_exporter": "python",
   "pygments_lexer": "ipython3",
   "version": "3.12.4"
  }
 },
 "nbformat": 4,
 "nbformat_minor": 5
}
